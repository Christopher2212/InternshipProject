{
 "cells": [
  {
   "cell_type": "code",
   "execution_count": 43,
   "id": "fe92fa6a",
   "metadata": {},
   "outputs": [
    {
     "ename": "SyntaxError",
     "evalue": "(unicode error) 'unicodeescape' codec can't decode bytes in position 25-26: malformed \\N character escape (2908198120.py, line 38)",
     "output_type": "error",
     "traceback": [
      "\u001b[1;36m  File \u001b[1;32m\"C:\\Users\\chris\\AppData\\Local\\Temp\\ipykernel_26584\\2908198120.py\"\u001b[1;36m, line \u001b[1;32m38\u001b[0m\n\u001b[1;33m    makeNetwork(\"Other\\EdgeandVertListsCSV\\NagoVert.csv\",\"Other\\EdgeandVertListsCSV\\NagoEdge.csv\",\"NagoyaNodeMap.html\")\u001b[0m\n\u001b[1;37m                                                        ^\u001b[0m\n\u001b[1;31mSyntaxError\u001b[0m\u001b[1;31m:\u001b[0m (unicode error) 'unicodeescape' codec can't decode bytes in position 25-26: malformed \\N character escape\n"
     ]
    }
   ],
   "source": [
    "import pandas as pd\n",
    "from pyvis.network import Network \n",
    "import numpy as np \n",
    "\n",
    "#Maps that I need to work on: \n",
    "# Manhatten \n",
    "# Nagoya\n",
    "PI = 3.141592653589793238    \n",
    "def makeNetwork(nodeListName, edgeListName, nodeMapName):\n",
    "    #init the network\n",
    "    \n",
    "    nodeList = pd.read_csv(nodeListName)\n",
    "    edgeList = pd.read_csv(edgeListName)\n",
    "    print(nodeList.to_string())\n",
    "    print(edgeList.to_string())\n",
    "    nodeNetwork = Network()\n",
    "\n",
    "    for row in nodeList.iterrows():\n",
    "        #add nodes to the list\n",
    "        print(row[1][\"id\"])\n",
    "        print(row[1][\"name\"])\n",
    "        nodeNetwork.add_node(n_id = row[1][\"id\"], label = row[1][\"name\"])\n",
    "        \n",
    "    for row in edgeList.iterrows():\n",
    "        lat1 = (nodeList.iloc[row[1][\"from\"]-1][\"latitude\"])/(180/PI) \n",
    "        lat2 = (nodeList.iloc[row[1][\"to\"]-1][\"latitude\"])/(180/PI)\n",
    "        long1 = (nodeList.iloc[row[1][\"from\"]-1][\"longitude\"])/(180/PI)\n",
    "        long2 = (nodeList.iloc[row[1][\"to\"]-1][\"longitude\"])/(180/PI)\n",
    "    \n",
    "        #TODO: Make sure to double check on how sin cos and arccos take in degrees or radians\n",
    "        #Should be in miles \n",
    "        dist = 6378.8 * np.arccos(np.sin(lat1) * np.sin(lat2) + np.cos(lat1) * np.cos(lat2) * np.cos(long2 - long1))\n",
    "        \n",
    "        nodeNetwork.add_edge(row[1][\"from\"], row[1][\"to\"], weight = dist, title = dist)\n",
    "        \n",
    "    #nodeNetwork.hrepulsion()\n",
    "    nodeNetwork.save_graph(nodeMapName)\n",
    "makeNetwork(\"Other\\EdgeandVertListsCSV\\NagoVert.csv\",\"Other\\EdgeandVertListsCSV\\NagoEdge.csv\",\"NagoyaNodeMap.html\")"
   ]
  },
  {
   "cell_type": "code",
   "execution_count": null,
   "id": "241950fd",
   "metadata": {},
   "outputs": [],
   "source": []
  }
 ],
 "metadata": {
  "kernelspec": {
   "display_name": "Python 3 (ipykernel)",
   "language": "python",
   "name": "python3"
  },
  "language_info": {
   "codemirror_mode": {
    "name": "ipython",
    "version": 3
   },
   "file_extension": ".py",
   "mimetype": "text/x-python",
   "name": "python",
   "nbconvert_exporter": "python",
   "pygments_lexer": "ipython3",
   "version": "3.9.13"
  }
 },
 "nbformat": 4,
 "nbformat_minor": 5
}
